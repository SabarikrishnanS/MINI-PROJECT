{
  "nbformat": 4,
  "nbformat_minor": 0,
  "metadata": {
    "colab": {
      "name": "Image classification.ipynb",
      "provenance": [],
      "authorship_tag": "ABX9TyNeAB2/yXf24y/FW0bMwfG+",
      "include_colab_link": true
    },
    "kernelspec": {
      "name": "python3",
      "display_name": "Python 3"
    },
    "language_info": {
      "name": "python"
    }
  },
  "cells": [
    {
      "cell_type": "markdown",
      "metadata": {
        "id": "view-in-github",
        "colab_type": "text"
      },
      "source": [
        "<a href=\"https://colab.research.google.com/github/SabarikrishnanS/MINI-PROJECT/blob/main/Image_classification.ipynb\" target=\"_parent\"><img src=\"https://colab.research.google.com/assets/colab-badge.svg\" alt=\"Open In Colab\"/></a>"
      ]
    },
    {
      "cell_type": "code",
      "metadata": {
        "colab": {
          "base_uri": "https://localhost:8080/"
        },
        "id": "5ddQnVnpfld7",
        "outputId": "fe3be171-6245-4021-aec5-c686ced71022"
      },
      "source": [
        "!pip install ipython-autotime\n",
        "%load_ext autotime"
      ],
      "execution_count": 1,
      "outputs": [
        {
          "output_type": "stream",
          "text": [
            "Collecting ipython-autotime\n",
            "  Downloading https://files.pythonhosted.org/packages/b4/c9/b413a24f759641bc27ef98c144b590023c8038dfb8a3f09e713e9dff12c1/ipython_autotime-0.3.1-py2.py3-none-any.whl\n",
            "Requirement already satisfied: ipython in /usr/local/lib/python3.7/dist-packages (from ipython-autotime) (5.5.0)\n",
            "Requirement already satisfied: traitlets>=4.2 in /usr/local/lib/python3.7/dist-packages (from ipython->ipython-autotime) (5.0.5)\n",
            "Requirement already satisfied: pickleshare in /usr/local/lib/python3.7/dist-packages (from ipython->ipython-autotime) (0.7.5)\n",
            "Requirement already satisfied: pygments in /usr/local/lib/python3.7/dist-packages (from ipython->ipython-autotime) (2.6.1)\n",
            "Requirement already satisfied: simplegeneric>0.8 in /usr/local/lib/python3.7/dist-packages (from ipython->ipython-autotime) (0.8.1)\n",
            "Requirement already satisfied: decorator in /usr/local/lib/python3.7/dist-packages (from ipython->ipython-autotime) (4.4.2)\n",
            "Requirement already satisfied: pexpect; sys_platform != \"win32\" in /usr/local/lib/python3.7/dist-packages (from ipython->ipython-autotime) (4.8.0)\n",
            "Requirement already satisfied: setuptools>=18.5 in /usr/local/lib/python3.7/dist-packages (from ipython->ipython-autotime) (57.0.0)\n",
            "Requirement already satisfied: prompt-toolkit<2.0.0,>=1.0.4 in /usr/local/lib/python3.7/dist-packages (from ipython->ipython-autotime) (1.0.18)\n",
            "Requirement already satisfied: ipython-genutils in /usr/local/lib/python3.7/dist-packages (from traitlets>=4.2->ipython->ipython-autotime) (0.2.0)\n",
            "Requirement already satisfied: ptyprocess>=0.5 in /usr/local/lib/python3.7/dist-packages (from pexpect; sys_platform != \"win32\"->ipython->ipython-autotime) (0.7.0)\n",
            "Requirement already satisfied: wcwidth in /usr/local/lib/python3.7/dist-packages (from prompt-toolkit<2.0.0,>=1.0.4->ipython->ipython-autotime) (0.2.5)\n",
            "Requirement already satisfied: six>=1.9.0 in /usr/local/lib/python3.7/dist-packages (from prompt-toolkit<2.0.0,>=1.0.4->ipython->ipython-autotime) (1.15.0)\n",
            "Installing collected packages: ipython-autotime\n",
            "Successfully installed ipython-autotime-0.3.1\n",
            "time: 2.09 ms (started: 2021-06-28 13:04:50 +00:00)\n"
          ],
          "name": "stdout"
        }
      ]
    },
    {
      "cell_type": "code",
      "metadata": {
        "colab": {
          "base_uri": "https://localhost:8080/"
        },
        "id": "Ea07I7ZsfzNV",
        "outputId": "30616bf5-c406-4ff0-b907-864c4c232604"
      },
      "source": [
        "!pip install bing-image-downloader"
      ],
      "execution_count": 2,
      "outputs": [
        {
          "output_type": "stream",
          "text": [
            "Collecting bing-image-downloader\n",
            "  Downloading https://files.pythonhosted.org/packages/c2/04/1872a689a30036aa0b81ac9fca124a7413cad71fdab714f727cf1a34b671/bing_image_downloader-1.1.1-py3-none-any.whl\n",
            "Installing collected packages: bing-image-downloader\n",
            "Successfully installed bing-image-downloader-1.1.1\n",
            "time: 3.04 s (started: 2021-06-28 13:04:50 +00:00)\n"
          ],
          "name": "stdout"
        }
      ]
    },
    {
      "cell_type": "code",
      "metadata": {
        "colab": {
          "base_uri": "https://localhost:8080/"
        },
        "id": "kBEbtLkXf2wM",
        "outputId": "8cf4cf85-346d-4599-b5cb-d33e47122337"
      },
      "source": [
        "!mkdir images"
      ],
      "execution_count": 3,
      "outputs": [
        {
          "output_type": "stream",
          "text": [
            "time: 114 ms (started: 2021-06-28 13:04:54 +00:00)\n"
          ],
          "name": "stdout"
        }
      ]
    },
    {
      "cell_type": "code",
      "metadata": {
        "colab": {
          "base_uri": "https://localhost:8080/"
        },
        "id": "XG9JDNJGf4jr",
        "outputId": "1e39a086-83b6-46a9-9cb3-51438ac828bf"
      },
      "source": [
        "from bing_image_downloader import downloader\n",
        "downloader.download(\"indian national flag\",limit=30,output_dir='images',\n",
        "                    adult_filter_off=True)"
      ],
      "execution_count": 4,
      "outputs": [
        {
          "output_type": "stream",
          "text": [
            "[%] Downloading Images to /content/images/indian national flag\n",
            "\n",
            "\n",
            "[!!]Indexing page: 1\n",
            "\n",
            "[%] Indexed 30 Images on Page 1.\n",
            "\n",
            "===============================================\n",
            "\n",
            "[%] Downloading Image #1 from https://i0.wp.com/1.bp.blogspot.com/-BubUbwagDWg/XzlfhUZY3nI/AAAAAAAAAQw/_W1BpOjif8ocXglAQM8MvE75PgEhyfSbACLcBGAsYHQ/s2048/Indian%2BNational%2BFlag.jpg?w=1200&amp;ssl=1\n",
            "[%] File Downloaded !\n",
            "\n",
            "[%] Downloading Image #2 from https://cdn.shopify.com/s/files/1/0026/0928/3141/products/India_Flag_-_2_large_b75382b0-1223-45ea-8fb2-3f666e6e0f9d_480x320.jpg?v=1563262256\n",
            "[Error]Invalid image, not saving https://cdn.shopify.com/s/files/1/0026/0928/3141/products/India_Flag_-_2_large_b75382b0-1223-45ea-8fb2-3f666e6e0f9d_480x320.jpg?v=1563262256\n",
            "\n",
            "[!] Issue getting: https://cdn.shopify.com/s/files/1/0026/0928/3141/products/India_Flag_-_2_large_b75382b0-1223-45ea-8fb2-3f666e6e0f9d_480x320.jpg?v=1563262256\n",
            "[!] Error:: Invalid image, not saving https://cdn.shopify.com/s/files/1/0026/0928/3141/products/India_Flag_-_2_large_b75382b0-1223-45ea-8fb2-3f666e6e0f9d_480x320.jpg?v=1563262256\n",
            "\n",
            "[%] Downloading Image #2 from https://atulhost.com/wp-content/uploads/2016/08/most-beautiful-indian-flag-images.jpg\n",
            "[%] File Downloaded !\n",
            "\n",
            "[%] Downloading Image #3 from https://i.pinimg.com/originals/6f/65/6d/6f656d501926de853b1296930c4bdd84.jpg\n",
            "[%] File Downloaded !\n",
            "\n",
            "[%] Downloading Image #4 from https://upload.wikimedia.org/wikipedia/commons/thumb/7/72/Flag_of_India_%28vertical%29.svg/1200px-Flag_of_India_%28vertical%29.svg.png\n",
            "[%] File Downloaded !\n",
            "\n",
            "[%] Downloading Image #5 from https://timesofindia.indiatimes.com/photo/70670193.cms\n",
            "[%] File Downloaded !\n",
            "\n",
            "[%] Downloading Image #6 from http://www.kokuyocamlin.com/blog/wp-content/uploads/2015/01/blog23.jpg\n",
            "[%] File Downloaded !\n",
            "\n",
            "[%] Downloading Image #7 from https://timesofindia.indiatimes.com/photo/70321037.cms\n",
            "[%] File Downloaded !\n",
            "\n",
            "[%] Downloading Image #8 from https://1.bp.blogspot.com/-AKDG1rxFzpg/XzlkAeXRv5I/AAAAAAAAAQ8/2DvU8S5j8ooB8qq9zpkXcEHlOl4VGEC6wCLcBGAsYHQ/s2048/Indian%2BFlag%2BTrue%2BMeaning.png\n",
            "[%] File Downloaded !\n",
            "\n",
            "[%] Downloading Image #9 from https://timesofindia.indiatimes.com/photo/65402501.cms\n",
            "[%] File Downloaded !\n",
            "\n",
            "[%] Downloading Image #10 from https://4.bp.blogspot.com/-tQrORICyGt4/VSUWb6C5JaI/AAAAAAAAEz8/kjUjJ7q9p_Y/s1600/81ny74dhw4qo4pg1.D.0.tape.JPG\n",
            "[%] File Downloaded !\n",
            "\n",
            "[%] Downloading Image #11 from https://sites.google.com/site/tamilindia2/Flag10-large.jpg\n",
            "[%] File Downloaded !\n",
            "\n",
            "[%] Downloading Image #12 from https://www.theholidayspot.com/indian_independence_day/images/indian-flag.jpg\n",
            "[%] File Downloaded !\n",
            "\n",
            "[%] Downloading Image #13 from https://www.flagpictures.org/downloads/print/india1.jpg\n",
            "[%] File Downloaded !\n",
            "\n",
            "[%] Downloading Image #14 from http://4.bp.blogspot.com/_-2xZsYWDiIM/TFxhYAV9aUI/AAAAAAAAB2A/TgI9w8pdjdA/s1600/indian-flag.jpg\n",
            "[%] File Downloaded !\n",
            "\n",
            "[%] Downloading Image #15 from https://atulhost.com/wp-content/uploads/2016/08/india-flag-wallpaper.jpg\n",
            "[%] File Downloaded !\n",
            "\n",
            "[%] Downloading Image #16 from https://s3.ap-southeast-1.amazonaws.com/images.asianage.com/images/aa-Cover-mlncdqhrarssigiib64jjonfh5-20170815135048.Medi.jpeg\n",
            "[%] File Downloaded !\n",
            "\n",
            "[%] Downloading Image #17 from https://cdn.shopify.com/s/files/1/0026/0928/3141/products/India_Flag_-_1_large_0e818e44-ce18-4e0a-84b4-59fd7b877df9_1200x600_crop_center.jpg?v=1563262256\n",
            "[%] File Downloaded !\n",
            "\n",
            "[%] Downloading Image #18 from http://ishnews.tv/images/NewsContents/coverImages/20190814151847.jpeg\n",
            "[%] File Downloaded !\n",
            "\n",
            "[%] Downloading Image #19 from https://i.pinimg.com/originals/e7/82/ca/e782ca981043cb16598c78b91b6cdfe1.jpg\n",
            "[%] File Downloaded !\n",
            "\n",
            "[%] Downloading Image #20 from http://hyderabad-india-online.com/wp-content/uploads/2013/08/Indian-Flag-–-Do’s-Don’ts-248x300.jpg\n",
            "[!] Issue getting: http://hyderabad-india-online.com/wp-content/uploads/2013/08/Indian-Flag-–-Do’s-Don’ts-248x300.jpg\n",
            "[!] Error:: 'ascii' codec can't encode character '\\u2013' in position 44: ordinal not in range(128)\n",
            "[%] Downloading Image #20 from https://sites.google.com/site/tamilindia2/Flag2.jpg\n",
            "[%] File Downloaded !\n",
            "\n",
            "[%] Downloading Image #21 from https://atulhost.com/wp-content/uploads/2016/08/indian-flag-hand.jpg\n",
            "[%] File Downloaded !\n",
            "\n",
            "[%] Downloading Image #22 from https://i.ytimg.com/vi/qJ_JjtF6JHo/maxresdefault.jpg\n",
            "[%] File Downloaded !\n",
            "\n",
            "[%] Downloading Image #23 from https://www.gulftoday.ae/-/media/gulf-today/images/articles/culture/2020/8/16/srk11.ashx?h=400&amp;la=en&amp;w=750&amp;hash=E6A3307FD352C7BEBD3C0F1242257467\n",
            "[%] File Downloaded !\n",
            "\n",
            "[%] Downloading Image #24 from https://c8.alamy.com/comp/GGAPE6/the-true-patriot-netaji-subhas-chandra-bose-indian-national-flag-GGAPE6.jpg\n",
            "[%] File Downloaded !\n",
            "\n",
            "[%] Downloading Image #25 from https://i.pinimg.com/originals/86/5a/4c/865a4c0f2d5b89ac63d7e5332dd85b17.jpg\n",
            "[%] File Downloaded !\n",
            "\n",
            "[%] Downloading Image #26 from https://i.pinimg.com/originals/2e/d6/a1/2ed6a18d12fc83a14142586fa8772009.jpg\n",
            "[%] File Downloaded !\n",
            "\n",
            "[%] Downloading Image #27 from https://www.rvcj.com/wp-content/uploads/2018/03/INDIAN-FLAG-TRICOLOR.jpg\n",
            "[%] File Downloaded !\n",
            "\n",
            "[%] Downloading Image #28 from https://i0.wp.com/1.bp.blogspot.com/-nl4B7wHosjc/XzleMKUp20I/AAAAAAAAAQk/XWiT_lNJPnMtoPBCEZM0JKIVy0OGE1JfACLcBGAsYHQ/s2048/IndianNatinal%2BFlag.jpg?w=1200&amp;ssl=1\n",
            "[%] File Downloaded !\n",
            "\n",
            "\n",
            "\n",
            "[!!]Indexing page: 2\n",
            "\n",
            "[%] Indexed 35 Images on Page 2.\n",
            "\n",
            "===============================================\n",
            "\n",
            "[%] Downloading Image #29 from https://i0.wp.com/1.bp.blogspot.com/-BubUbwagDWg/XzlfhUZY3nI/AAAAAAAAAQw/_W1BpOjif8ocXglAQM8MvE75PgEhyfSbACLcBGAsYHQ/s2048/Indian%2BNational%2BFlag.jpg?w=1200&amp;ssl=1\n",
            "[%] File Downloaded !\n",
            "\n",
            "[%] Downloading Image #30 from https://cdn.shopify.com/s/files/1/0026/0928/3141/products/India_Flag_-_2_large_b75382b0-1223-45ea-8fb2-3f666e6e0f9d_480x320.jpg?v=1563262256\n",
            "[Error]Invalid image, not saving https://cdn.shopify.com/s/files/1/0026/0928/3141/products/India_Flag_-_2_large_b75382b0-1223-45ea-8fb2-3f666e6e0f9d_480x320.jpg?v=1563262256\n",
            "\n",
            "[!] Issue getting: https://cdn.shopify.com/s/files/1/0026/0928/3141/products/India_Flag_-_2_large_b75382b0-1223-45ea-8fb2-3f666e6e0f9d_480x320.jpg?v=1563262256\n",
            "[!] Error:: Invalid image, not saving https://cdn.shopify.com/s/files/1/0026/0928/3141/products/India_Flag_-_2_large_b75382b0-1223-45ea-8fb2-3f666e6e0f9d_480x320.jpg?v=1563262256\n",
            "\n",
            "[%] Downloading Image #30 from https://atulhost.com/wp-content/uploads/2016/08/most-beautiful-indian-flag-images.jpg\n",
            "[%] File Downloaded !\n",
            "\n",
            "\n",
            "\n",
            "[%] Done. Downloaded 30 images.\n",
            "===============================================\n",
            "\n",
            "Please show your support here\n",
            "https://www.buymeacoffee.com/gurugaurav\n",
            "\n",
            "===============================================\n",
            "\n",
            "time: 21 s (started: 2021-06-28 13:04:54 +00:00)\n"
          ],
          "name": "stdout"
        }
      ]
    },
    {
      "cell_type": "code",
      "metadata": {
        "colab": {
          "base_uri": "https://localhost:8080/"
        },
        "id": "_xyc_5axf72x",
        "outputId": "5ac70aed-d707-4478-bd56-d2e1638bb381"
      },
      "source": [
        "downloader.download(\"american national flag\",limit=30,output_dir='images',\n",
        "                    adult_filter_off=True)"
      ],
      "execution_count": 5,
      "outputs": [
        {
          "output_type": "stream",
          "text": [
            "[%] Downloading Images to /content/images/american national flag\n",
            "\n",
            "\n",
            "[!!]Indexing page: 1\n",
            "\n",
            "[%] Indexed 30 Images on Page 1.\n",
            "\n",
            "===============================================\n",
            "\n",
            "[%] Downloading Image #1 from https://www.thenation.com/wp-content/uploads/2015/10/american_flag_img.jpg?scale=896&amp;compress=80\n",
            "[%] File Downloaded !\n",
            "\n",
            "[%] Downloading Image #2 from https://nationalflagfoundation.org/wp-content/uploads/Old-Glory.jpg\n",
            "[%] File Downloaded !\n",
            "\n",
            "[%] Downloading Image #3 from https://images-na.ssl-images-amazon.com/images/I/61wDlvJ7y6L._AC_UX569_.jpg\n",
            "[%] File Downloaded !\n",
            "\n",
            "[%] Downloading Image #4 from https://capitalresearch.org/app/uploads/american-flag-waving-14467836868yl.jpg\n",
            "[%] File Downloaded !\n",
            "\n",
            "[%] Downloading Image #5 from https://i.pinimg.com/originals/8e/1e/06/8e1e0652af2dd16d454a250f77743724.jpg\n",
            "[%] File Downloaded !\n",
            "\n",
            "[%] Downloading Image #6 from http://cdn.cnsnews.com/american-flag2.jpg\n",
            "[%] File Downloaded !\n",
            "\n",
            "[%] Downloading Image #7 from http://www.nhlabornews.com/wp-content/uploads/2014/07/American-Flag-Sam-Howzit-FLIKR.jpg\n",
            "[%] File Downloaded !\n",
            "\n",
            "[%] Downloading Image #8 from https://nsucurrent.nova.edu/wp-content/uploads/2016/02/american-flag-793893_960_720.jpg\n",
            "[%] File Downloaded !\n",
            "\n",
            "[%] Downloading Image #9 from https://historythings.com/wp-content/uploads/2016/10/us-flag-1423651_960_720-1.jpg\n",
            "[%] File Downloaded !\n",
            "\n",
            "[%] Downloading Image #10 from https://media.buzzle.com/media/images-en/illustrations/countries/united-states/1200-254389-american-flag-facts.jpg\n",
            "[%] File Downloaded !\n",
            "\n",
            "[%] Downloading Image #11 from http://blog.cmnonline.org/wp-content/uploads/2015/07/Flag_of_the_USA_Oct2011-1024x768.jpg\n",
            "[!] Issue getting: http://blog.cmnonline.org/wp-content/uploads/2015/07/Flag_of_the_USA_Oct2011-1024x768.jpg\n",
            "[!] Error:: HTTP Error 404: Not found\n",
            "[%] Downloading Image #11 from https://i.ebayimg.com/images/i/191382973942-0-1/s-l1000.jpg\n",
            "[%] File Downloaded !\n",
            "\n",
            "[%] Downloading Image #12 from https://img2.grunge.com/img/gallery/10-things-you-assumed-were-true-about-american-history-but-arent/the-flag-we-all-think-was-the-national-flag-of-the-confederacy-wasnt-1523283817.jpg\n",
            "[%] File Downloaded !\n",
            "\n",
            "[%] Downloading Image #13 from https://ultimateflags.com/wp-content/uploads/2020/08/3rd-national-flag-my-american-flag-for-sale-by-ultimate-flags.jpg\n",
            "[%] File Downloaded !\n",
            "\n",
            "[%] Downloading Image #14 from https://lapostexaminer.com/wp-content/uploads/2020/09/american-4402598_640.jpg\n",
            "[%] File Downloaded !\n",
            "\n",
            "[%] Downloading Image #15 from http://il2.picdn.net/shutterstock/videos/8138296/thumb/1.jpg\n",
            "[%] File Downloaded !\n",
            "\n",
            "[%] Downloading Image #16 from https://www.designbolts.com/wp-content/uploads/2015/06/American-flag-iphone-6-wallpaper.jpg\n",
            "[%] File Downloaded !\n",
            "\n",
            "[%] Downloading Image #17 from http://www.grumpytraveller.com/wp-content/uploads/2015/03/American-Flag-HD-Wallpaper.jpeg\n",
            "[Error]Invalid image, not saving http://www.grumpytraveller.com/wp-content/uploads/2015/03/American-Flag-HD-Wallpaper.jpeg\n",
            "\n",
            "[!] Issue getting: http://www.grumpytraveller.com/wp-content/uploads/2015/03/American-Flag-HD-Wallpaper.jpeg\n",
            "[!] Error:: Invalid image, not saving http://www.grumpytraveller.com/wp-content/uploads/2015/03/American-Flag-HD-Wallpaper.jpeg\n",
            "\n",
            "[%] Downloading Image #17 from https://s1.ibtimes.com/sites/www.ibtimes.com/files/styles/full/public/2015/06/25/rtx1hs08.jpg\n",
            "[%] File Downloaded !\n",
            "\n",
            "[%] Downloading Image #18 from https://www.instantcheckmate.com/crimewire/imglib/2013/06/American-Flag.jpg?s=2c7bbeff6629125c5ecbd398f48e9385\n",
            "[%] File Downloaded !\n",
            "\n",
            "[%] Downloading Image #19 from https://www.adn.com/resizer/QvU-e0eFXGcaQE7H243Rj0CU2oU=/1200x0/s3.amazonaws.com/arc-wordpress-client-uploads/adn/wp-content/uploads/2017/07/03074945/american-flag-2277127_960_720.jpg\n",
            "[%] File Downloaded !\n",
            "\n",
            "[%] Downloading Image #20 from https://cdn.britannica.com/s:900x675/32/149832-131-BA47E486/flag-American-Flag-stars-stripes-patriotism.jpg\n",
            "[Error]Invalid image, not saving https://cdn.britannica.com/s:900x675/32/149832-131-BA47E486/flag-American-Flag-stars-stripes-patriotism.jpg\n",
            "\n",
            "[!] Issue getting: https://cdn.britannica.com/s:900x675/32/149832-131-BA47E486/flag-American-Flag-stars-stripes-patriotism.jpg\n",
            "[!] Error:: Invalid image, not saving https://cdn.britannica.com/s:900x675/32/149832-131-BA47E486/flag-American-Flag-stars-stripes-patriotism.jpg\n",
            "\n",
            "[%] Downloading Image #20 from https://www.gannett-cdn.com/-mm-/19a219a2fa24c99fe973f0709c4e29c6463c3bb1/c=132-0-2366-1680&amp;r=x404&amp;c=534x401/local/-/media/2016/05/24/Phoenix/Phoenix/635997093970316559-ThinkstockPhotos-474042244.jpg\n",
            "[%] File Downloaded !\n",
            "\n",
            "[%] Downloading Image #21 from http://img2.grunge.com/img/gallery/10-things-you-assumed-were-true-about-american-history-but-arent/betsy-ross-designed-the-first-american-flag.jpg\n",
            "[%] File Downloaded !\n",
            "\n",
            "[%] Downloading Image #22 from https://vintageunscripted.com/wp-content/uploads/2017/06/american-820418_1280-1024x554.jpg\n",
            "[%] File Downloaded !\n",
            "\n",
            "[%] Downloading Image #23 from https://us-east-1.tchyn.io/snopes-production/uploads/2017/01/american-flag_fb.jpg\n",
            "[%] File Downloaded !\n",
            "\n",
            "[%] Downloading Image #24 from https://img.washingtonpost.com/rf/image_1484w/2010-2019/Wires/Images/2016-11-11/AP/Pictures_Of_The_Week_Photo_Gallery-6be81.jpg\n",
            "[%] File Downloaded !\n",
            "\n",
            "[%] Downloading Image #25 from https://cdn.thealternativedaily.com/wp-content/uploads/2016/03/Fotolia_43448206_Subscription_Monthly_M.jpg\n",
            "[%] File Downloaded !\n",
            "\n",
            "[%] Downloading Image #26 from https://www.rd.com/wp-content/uploads/2016/03/01-confederate-flag-facts.jpg\n",
            "[%] File Downloaded !\n",
            "\n",
            "[%] Downloading Image #27 from http://cdn.guff.com/site_1/media/21000/20074/items/1d47235ff1aca14c611c49c7.jpg\n",
            "[%] File Downloaded !\n",
            "\n",
            "\n",
            "\n",
            "[!!]Indexing page: 2\n",
            "\n",
            "[%] Indexed 35 Images on Page 2.\n",
            "\n",
            "===============================================\n",
            "\n",
            "[%] Downloading Image #28 from https://www.thenation.com/wp-content/uploads/2015/10/american_flag_img.jpg?scale=896&amp;compress=80\n",
            "[%] File Downloaded !\n",
            "\n",
            "[%] Downloading Image #29 from https://nationalflagfoundation.org/wp-content/uploads/Old-Glory.jpg\n",
            "[%] File Downloaded !\n",
            "\n",
            "[%] Downloading Image #30 from https://images-na.ssl-images-amazon.com/images/I/61wDlvJ7y6L._AC_UX569_.jpg\n",
            "[%] File Downloaded !\n",
            "\n",
            "\n",
            "\n",
            "[%] Done. Downloaded 30 images.\n",
            "===============================================\n",
            "\n",
            "Please show your support here\n",
            "https://www.buymeacoffee.com/gurugaurav\n",
            "\n",
            "===============================================\n",
            "\n",
            "time: 18.2 s (started: 2021-06-28 13:05:15 +00:00)\n"
          ],
          "name": "stdout"
        }
      ]
    },
    {
      "cell_type": "code",
      "metadata": {
        "colab": {
          "base_uri": "https://localhost:8080/"
        },
        "id": "BxqNkkGkgABQ",
        "outputId": "c8e5e8f3-cbd1-4c67-c9a0-3b4170b22ffc"
      },
      "source": [
        "downloader.download(\"brazil national flag\",limit=30,output_dir='images',\n",
        "                    adult_filter_off=True)"
      ],
      "execution_count": 6,
      "outputs": [
        {
          "output_type": "stream",
          "text": [
            "[%] Downloading Images to /content/images/brazil national flag\n",
            "\n",
            "\n",
            "[!!]Indexing page: 1\n",
            "\n",
            "[%] Indexed 30 Images on Page 1.\n",
            "\n",
            "===============================================\n",
            "\n",
            "[%] Downloading Image #1 from https://i.ebayimg.com/images/i/150597567652-0-1/s-l1000.jpg\n",
            "[%] File Downloaded !\n",
            "\n",
            "[%] Downloading Image #2 from https://i.ebayimg.com/images/g/UxMAAOSwrZVezhWL/s-l400.jpg\n",
            "[%] File Downloaded !\n",
            "\n",
            "[%] Downloading Image #3 from https://www.anorak.co.uk/wp-content/gallery/the-real-meaning-of-flags/flags-brazil-real-meaning.jpg\n",
            "[%] File Downloaded !\n",
            "\n",
            "[%] Downloading Image #4 from https://i.ebayimg.com/images/g/YSsAAOSwnfFdcBCb/s-l400.jpg\n",
            "[%] File Downloaded !\n",
            "\n",
            "[%] Downloading Image #5 from https://i.ebayimg.com/images/g/WqMAAOSw3nRdVK7z/s-l640.jpg\n",
            "[%] File Downloaded !\n",
            "\n",
            "[%] Downloading Image #6 from https://i.ebayimg.com/images/g/tqUAAOxyBLxRGz6k/s-l400.jpg\n",
            "[%] File Downloaded !\n",
            "\n",
            "[%] Downloading Image #7 from https://i.ebayimg.com/images/g/CDIAAOSwxKBdRN3S/s-l300.jpg\n",
            "[%] File Downloaded !\n",
            "\n",
            "[%] Downloading Image #8 from https://i.ebayimg.com/images/g/ZC4AAOSwS1Vbs7o7/s-l400.jpg\n",
            "[%] File Downloaded !\n",
            "\n",
            "[%] Downloading Image #9 from https://i.ebayimg.com/images/g/pfQAAOSwBw5XRQoC/s-l400.jpg\n",
            "[%] File Downloaded !\n",
            "\n",
            "[%] Downloading Image #10 from https://cdn.shopify.com/s/files/1/0026/0928/3141/products/Brazil_Flag_-_2_large_cf699a4b-4437-4eba-bc81-98247a48ae8e_480x320.jpg?v=1563198035\n",
            "[Error]Invalid image, not saving https://cdn.shopify.com/s/files/1/0026/0928/3141/products/Brazil_Flag_-_2_large_cf699a4b-4437-4eba-bc81-98247a48ae8e_480x320.jpg?v=1563198035\n",
            "\n",
            "[!] Issue getting: https://cdn.shopify.com/s/files/1/0026/0928/3141/products/Brazil_Flag_-_2_large_cf699a4b-4437-4eba-bc81-98247a48ae8e_480x320.jpg?v=1563198035\n",
            "[!] Error:: Invalid image, not saving https://cdn.shopify.com/s/files/1/0026/0928/3141/products/Brazil_Flag_-_2_large_cf699a4b-4437-4eba-bc81-98247a48ae8e_480x320.jpg?v=1563198035\n",
            "\n",
            "[%] Downloading Image #10 from https://i.ebayimg.com/images/i/121153670185-0-1/s-l1000.jpg\n",
            "[%] File Downloaded !\n",
            "\n",
            "[%] Downloading Image #11 from https://i.ebayimg.com/images/g/bM0AAOSwEotZyQ6O/s-l400.jpg\n",
            "[%] File Downloaded !\n",
            "\n",
            "[%] Downloading Image #12 from https://cdn.shopify.com/s/files/1/0026/0928/3141/products/Brazil_Flag_-_1_large_064ae53f-4ec5-48ed-9cbc-36b6c4308af8_1200x722.jpg?v=1563198035\n",
            "[Error]Invalid image, not saving https://cdn.shopify.com/s/files/1/0026/0928/3141/products/Brazil_Flag_-_1_large_064ae53f-4ec5-48ed-9cbc-36b6c4308af8_1200x722.jpg?v=1563198035\n",
            "\n",
            "[!] Issue getting: https://cdn.shopify.com/s/files/1/0026/0928/3141/products/Brazil_Flag_-_1_large_064ae53f-4ec5-48ed-9cbc-36b6c4308af8_1200x722.jpg?v=1563198035\n",
            "[!] Error:: Invalid image, not saving https://cdn.shopify.com/s/files/1/0026/0928/3141/products/Brazil_Flag_-_1_large_064ae53f-4ec5-48ed-9cbc-36b6c4308af8_1200x722.jpg?v=1563198035\n",
            "\n",
            "[%] Downloading Image #12 from https://s3.pixers.pics/pixers/700/FO/61/44/38/89/700_FO61443889_8eab7d3e56b7f4fc74b27696093509e1.jpg\n",
            "[%] File Downloaded !\n",
            "\n",
            "[%] Downloading Image #13 from http://cdn.newsapi.com.au/image/v1/7976bd8ea0f494dc50c1e7e85fc39cbb\n",
            "[%] File Downloaded !\n",
            "\n",
            "[%] Downloading Image #14 from https://digitalsynopsis.com/wp-content/uploads/2018/05/funny-country-flag-color-meanings-7.jpg\n",
            "[%] File Downloaded !\n",
            "\n",
            "[%] Downloading Image #15 from https://i.ebayimg.com/images/g/NmAAAOSwajRcjDcg/s-l400.jpg\n",
            "[%] File Downloaded !\n",
            "\n",
            "[%] Downloading Image #16 from https://i.ebayimg.com/images/g/MAIAAOSwwTlUqsjk/s-l640.jpg\n",
            "[%] File Downloaded !\n",
            "\n",
            "[%] Downloading Image #17 from https://upload.wikimedia.org/wikipedia/commons/thumb/2/24/Flag_of_Brazil_(1870–1889).svg/800px-Flag_of_Brazil_(1870–1889).svg.png?1566034173350\n",
            "[!] Issue getting: https://upload.wikimedia.org/wikipedia/commons/thumb/2/24/Flag_of_Brazil_(1870–1889).svg/800px-Flag_of_Brazil_(1870–1889).svg.png?1566034173350\n",
            "[!] Error:: 'ascii' codec can't encode character '\\u2013' in position 54: ordinal not in range(128)\n",
            "[%] Downloading Image #17 from http://3.bp.blogspot.com/-JYD0TKAW7NE/TcW2kZpp-FI/AAAAAAAAAnI/A097btZ3goc/s1600/Brazilian+Flag+Wallpaper+%25282%2529.gif\n",
            "[%] File Downloaded !\n",
            "\n",
            "[%] Downloading Image #18 from https://www.fotw.info/images/b/br-pa_90.gif\n",
            "[%] File Downloaded !\n",
            "\n",
            "[%] Downloading Image #19 from https://i.ebayimg.com/images/g/ZTYAAOxyB0VRwe3u/s-l400.jpg\n",
            "[%] File Downloaded !\n",
            "\n",
            "[%] Downloading Image #20 from https://thumbs.dreamstime.com/b/comoros-national-flag-official-flag-comoros-true-color-comoros-national-flag-official-flag-comoros-accurate-121081458.jpg\n",
            "[%] File Downloaded !\n",
            "\n",
            "[%] Downloading Image #21 from https://i.ebayimg.com/images/g/Nm4AAOSw9r1V-okb/s-l400.jpg\n",
            "[%] File Downloaded !\n",
            "\n",
            "[%] Downloading Image #22 from http://www.vector-eps.com/wp-content/gallery/250-countries-flags-avatars/thumbs/thumbs_brazil-flag.jpg\n",
            "[%] File Downloaded !\n",
            "\n",
            "[%] Downloading Image #23 from https://www.visionbedding.com/images/theme/brazil-soccer-flags-symbol-custom-size-valance-65430242.jpg\n",
            "[%] File Downloaded !\n",
            "\n",
            "[%] Downloading Image #24 from https://i.ebayimg.com/images/g/FY4AAOSwxUJd07n-/s-l640.jpg\n",
            "[%] File Downloaded !\n",
            "\n",
            "[%] Downloading Image #25 from https://i.ebayimg.com/images/g/BdoAAOSw1BNdiiI1/s-l400.jpg\n",
            "[%] File Downloaded !\n",
            "\n",
            "[%] Downloading Image #26 from https://1.bp.blogspot.com/-1MGfioQH-kc/UmPutgkSktI/AAAAAAAAI0Y/Whp1NdB0YWk/s1600/graphics+waving+flag+of+Venezuela.png\n",
            "[%] File Downloaded !\n",
            "\n",
            "[%] Downloading Image #27 from https://www.victeamsports.com/wp-content/uploads/2019/04/Brazil-National-Flag-Soccer-Ball-1.jpg\n",
            "[%] File Downloaded !\n",
            "\n",
            "\n",
            "\n",
            "[!!]Indexing page: 2\n",
            "\n",
            "[%] Indexed 35 Images on Page 2.\n",
            "\n",
            "===============================================\n",
            "\n",
            "[%] Downloading Image #28 from https://i.ebayimg.com/images/i/150597567652-0-1/s-l1000.jpg\n",
            "[%] File Downloaded !\n",
            "\n",
            "[%] Downloading Image #29 from https://i.ebayimg.com/images/g/UxMAAOSwrZVezhWL/s-l400.jpg\n",
            "[%] File Downloaded !\n",
            "\n",
            "[%] Downloading Image #30 from https://www.anorak.co.uk/wp-content/gallery/the-real-meaning-of-flags/flags-brazil-real-meaning.jpg\n",
            "[%] File Downloaded !\n",
            "\n",
            "\n",
            "\n",
            "[%] Done. Downloaded 30 images.\n",
            "===============================================\n",
            "\n",
            "Please show your support here\n",
            "https://www.buymeacoffee.com/gurugaurav\n",
            "\n",
            "===============================================\n",
            "\n",
            "time: 8.78 s (started: 2021-06-28 13:05:33 +00:00)\n"
          ],
          "name": "stdout"
        }
      ]
    },
    {
      "cell_type": "code",
      "metadata": {
        "colab": {
          "base_uri": "https://localhost:8080/"
        },
        "id": "4iDOHEXHgEKK",
        "outputId": "102091c8-7d33-4157-c59a-e0117dcd8dab"
      },
      "source": [
        "import os\n",
        "import matplotlib.pyplot as plt\n",
        "import numpy as np\n",
        "from skimage.io import imread\n",
        "from skimage.transform import resize\n",
        "\n",
        "target = []\n",
        "images = []\n",
        "flat_data = []\n",
        "\n",
        "DATADIR = '/content/images'\n",
        "CATEGORIES = ['indian national flag','american national flag','brazil national flag']\n",
        "\n",
        "for category in CATEGORIES:\n",
        "  class_num = CATEGORIES.index(category) # Label Encoding the values\n",
        "  path = os.path.join(DATADIR,category) # Create path to use all the images\n",
        "  for img in os.listdir(path):\n",
        "    img_array = imread(os.path.join(path,img))   \n",
        "    img_resized = resize(img_array,(150,150,3)) # Normalizes the value from 0 to 1\n",
        "    flat_data.append(img_resized.flatten())\n",
        "    images.append(img_resized)\n",
        "    target.append(class_num)\n",
        "\n",
        "flat_data = np.array(flat_data)\n",
        "target = np.array(target)\n",
        "images = np.array(images)\n"
      ],
      "execution_count": 7,
      "outputs": [
        {
          "output_type": "stream",
          "text": [
            "time: 24.2 s (started: 2021-06-28 13:05:42 +00:00)\n"
          ],
          "name": "stdout"
        }
      ]
    },
    {
      "cell_type": "code",
      "metadata": {
        "colab": {
          "base_uri": "https://localhost:8080/"
        },
        "id": "glNeMR_phLPH",
        "outputId": "880b2ec6-b894-4095-c079-2943da46b5a8"
      },
      "source": [
        "len(flat_data[0])"
      ],
      "execution_count": 8,
      "outputs": [
        {
          "output_type": "execute_result",
          "data": {
            "text/plain": [
              "67500"
            ]
          },
          "metadata": {
            "tags": []
          },
          "execution_count": 8
        },
        {
          "output_type": "stream",
          "text": [
            "time: 7.59 ms (started: 2021-06-28 13:06:06 +00:00)\n"
          ],
          "name": "stdout"
        }
      ]
    },
    {
      "cell_type": "code",
      "metadata": {
        "colab": {
          "base_uri": "https://localhost:8080/"
        },
        "id": "Vl9LeQbHhOe3",
        "outputId": "881d8ec2-61b1-43cd-d811-f39bf750b56a"
      },
      "source": [
        "150*150*3"
      ],
      "execution_count": 9,
      "outputs": [
        {
          "output_type": "execute_result",
          "data": {
            "text/plain": [
              "67500"
            ]
          },
          "metadata": {
            "tags": []
          },
          "execution_count": 9
        },
        {
          "output_type": "stream",
          "text": [
            "time: 6.89 ms (started: 2021-06-28 13:06:06 +00:00)\n"
          ],
          "name": "stdout"
        }
      ]
    },
    {
      "cell_type": "code",
      "metadata": {
        "colab": {
          "base_uri": "https://localhost:8080/"
        },
        "id": "UH4bwY13hQkW",
        "outputId": "718362a3-c464-4b5b-8425-f1f7aba71d12"
      },
      "source": [
        "target"
      ],
      "execution_count": 10,
      "outputs": [
        {
          "output_type": "execute_result",
          "data": {
            "text/plain": [
              "array([0, 0, 0, 0, 0, 0, 0, 0, 0, 0, 0, 0, 0, 0, 0, 0, 0, 0, 0, 0, 0, 0,\n",
              "       0, 0, 0, 0, 0, 0, 0, 0, 1, 1, 1, 1, 1, 1, 1, 1, 1, 1, 1, 1, 1, 1,\n",
              "       1, 1, 1, 1, 1, 1, 1, 1, 1, 1, 1, 1, 1, 1, 1, 1, 2, 2, 2, 2, 2, 2,\n",
              "       2, 2, 2, 2, 2, 2, 2, 2, 2, 2, 2, 2, 2, 2, 2, 2, 2, 2, 2, 2, 2, 2,\n",
              "       2, 2])"
            ]
          },
          "metadata": {
            "tags": []
          },
          "execution_count": 10
        },
        {
          "output_type": "stream",
          "text": [
            "time: 7.67 ms (started: 2021-06-28 13:06:06 +00:00)\n"
          ],
          "name": "stdout"
        }
      ]
    },
    {
      "cell_type": "code",
      "metadata": {
        "colab": {
          "base_uri": "https://localhost:8080/",
          "height": 299
        },
        "id": "V9AivHXShSsW",
        "outputId": "8903455f-b019-49c6-d2fa-f5513808e528"
      },
      "source": [
        "unique,count = np.unique(target,return_counts=True)\n",
        "plt.bar(CATEGORIES,count)"
      ],
      "execution_count": 11,
      "outputs": [
        {
          "output_type": "execute_result",
          "data": {
            "text/plain": [
              "<BarContainer object of 3 artists>"
            ]
          },
          "metadata": {
            "tags": []
          },
          "execution_count": 11
        },
        {
          "output_type": "display_data",
          "data": {
            "image/png": "[encoded data removed]",
            "text/plain": [
              "<Figure size 432x288 with 1 Axes>"
            ]
          },
          "metadata": {
            "tags": [],
            "needs_background": "light"
          }
        },
        {
          "output_type": "stream",
          "text": [
            "time: 169 ms (started: 2021-06-28 13:06:06 +00:00)\n"
          ],
          "name": "stdout"
        }
      ]
    },
    {
      "cell_type": "code",
      "metadata": {
        "colab": {
          "base_uri": "https://localhost:8080/"
        },
        "id": "Ew2N9Gwyham2",
        "outputId": "c726e80d-b48e-4158-fcbe-938c593ad2e9"
      },
      "source": [
        "from sklearn.model_selection import train_test_split\n",
        "x_train,x_test,y_train,y_test = train_test_split(flat_data,target,\n",
        "                                  test_size=0.3,random_state=109)"
      ],
      "execution_count": 12,
      "outputs": [
        {
          "output_type": "stream",
          "text": [
            "time: 192 ms (started: 2021-06-28 13:06:06 +00:00)\n"
          ],
          "name": "stdout"
        }
      ]
    },
    {
      "cell_type": "code",
      "metadata": {
        "colab": {
          "base_uri": "https://localhost:8080/"
        },
        "id": "pD5T8Mj9hfIE",
        "outputId": "5163069e-7702-4ae1-9c74-67dee3a08d72"
      },
      "source": [
        "from sklearn.model_selection import GridSearchCV\n",
        "from sklearn import svm\n",
        "param_grid = [\n",
        "              {'C':[1,10,100,1000],'kernel':['linear']},\n",
        "              {'C':[1,10,100,1000],'gamma':[0.001,0.0001],'kernel':['rbf']},\n",
        "]\n",
        "\n",
        "svc = svm.SVC(probability=True)\n",
        "clf = GridSearchCV(svc,param_grid)\n",
        "clf.fit(x_train,y_train)"
      ],
      "execution_count": 13,
      "outputs": [
        {
          "output_type": "execute_result",
          "data": {
            "text/plain": [
              "GridSearchCV(cv=None, error_score=nan,\n",
              "             estimator=SVC(C=1.0, break_ties=False, cache_size=200,\n",
              "                           class_weight=None, coef0=0.0,\n",
              "                           decision_function_shape='ovr', degree=3,\n",
              "                           gamma='scale', kernel='rbf', max_iter=-1,\n",
              "                           probability=True, random_state=None, shrinking=True,\n",
              "                           tol=0.001, verbose=False),\n",
              "             iid='deprecated', n_jobs=None,\n",
              "             param_grid=[{'C': [1, 10, 100, 1000], 'kernel': ['linear']},\n",
              "                         {'C': [1, 10, 100, 1000], 'gamma': [0.001, 0.0001],\n",
              "                          'kernel': ['rbf']}],\n",
              "             pre_dispatch='2*n_jobs', refit=True, return_train_score=False,\n",
              "             scoring=None, verbose=0)"
            ]
          },
          "metadata": {
            "tags": []
          },
          "execution_count": 13
        },
        {
          "output_type": "stream",
          "text": [
            "time: 1min 57s (started: 2021-06-28 13:06:06 +00:00)\n"
          ],
          "name": "stdout"
        }
      ]
    },
    {
      "cell_type": "code",
      "metadata": {
        "colab": {
          "base_uri": "https://localhost:8080/"
        },
        "id": "SjzNc-1GhjdH",
        "outputId": "bf41db1b-2e9d-46bc-8e28-93524c8288f2"
      },
      "source": [
        "y_pred = clf.predict(x_test)\n",
        "y_pred"
      ],
      "execution_count": 14,
      "outputs": [
        {
          "output_type": "execute_result",
          "data": {
            "text/plain": [
              "array([1, 0, 1, 2, 2, 1, 1, 2, 1, 0, 1, 2, 0, 0, 2, 1, 2, 1, 0, 0, 2, 2,\n",
              "       2, 2, 2, 0, 1])"
            ]
          },
          "metadata": {
            "tags": []
          },
          "execution_count": 14
        },
        {
          "output_type": "stream",
          "text": [
            "time: 188 ms (started: 2021-06-28 13:08:04 +00:00)\n"
          ],
          "name": "stdout"
        }
      ]
    },
    {
      "cell_type": "code",
      "metadata": {
        "colab": {
          "base_uri": "https://localhost:8080/"
        },
        "id": "An86B-G0hoVW",
        "outputId": "9b2fb9aa-ef91-407a-b072-98297f92787c"
      },
      "source": [
        "y_test"
      ],
      "execution_count": 15,
      "outputs": [
        {
          "output_type": "execute_result",
          "data": {
            "text/plain": [
              "array([1, 0, 1, 2, 2, 1, 0, 1, 1, 0, 1, 0, 1, 2, 2, 1, 2, 1, 0, 1, 2, 2,\n",
              "       2, 0, 0, 0, 1])"
            ]
          },
          "metadata": {
            "tags": []
          },
          "execution_count": 15
        },
        {
          "output_type": "stream",
          "text": [
            "time: 3.66 ms (started: 2021-06-28 13:08:04 +00:00)\n"
          ],
          "name": "stdout"
        }
      ]
    },
    {
      "cell_type": "code",
      "metadata": {
        "colab": {
          "base_uri": "https://localhost:8080/"
        },
        "id": "IAZvPIwFhqR9",
        "outputId": "55d6e6f0-e64a-44e4-dc75-8d05cc165ea4"
      },
      "source": [
        "from sklearn.metrics import accuracy_score,confusion_matrix"
      ],
      "execution_count": 16,
      "outputs": [
        {
          "output_type": "stream",
          "text": [
            "time: 1.28 ms (started: 2021-06-28 13:08:04 +00:00)\n"
          ],
          "name": "stdout"
        }
      ]
    },
    {
      "cell_type": "code",
      "metadata": {
        "colab": {
          "base_uri": "https://localhost:8080/"
        },
        "id": "CJW1Nye2hslP",
        "outputId": "9e162f83-d79a-43af-c1ad-78ace89e19b4"
      },
      "source": [
        "accuracy_score(y_pred,y_test)"
      ],
      "execution_count": 17,
      "outputs": [
        {
          "output_type": "execute_result",
          "data": {
            "text/plain": [
              "0.7037037037037037"
            ]
          },
          "metadata": {
            "tags": []
          },
          "execution_count": 17
        },
        {
          "output_type": "stream",
          "text": [
            "time: 4.62 ms (started: 2021-06-28 13:08:04 +00:00)\n"
          ],
          "name": "stdout"
        }
      ]
    },
    {
      "cell_type": "code",
      "metadata": {
        "colab": {
          "base_uri": "https://localhost:8080/"
        },
        "id": "BM3WkyLphxa3",
        "outputId": "d0954694-88f1-4e81-de8a-484fa3ae8727"
      },
      "source": [
        "confusion_matrix(y_pred,y_test)"
      ],
      "execution_count": 18,
      "outputs": [
        {
          "output_type": "execute_result",
          "data": {
            "text/plain": [
              "array([[4, 2, 1],\n",
              "       [1, 8, 0],\n",
              "       [3, 1, 7]])"
            ]
          },
          "metadata": {
            "tags": []
          },
          "execution_count": 18
        },
        {
          "output_type": "stream",
          "text": [
            "time: 4.77 ms (started: 2021-06-28 13:08:04 +00:00)\n"
          ],
          "name": "stdout"
        }
      ]
    },
    {
      "cell_type": "code",
      "metadata": {
        "colab": {
          "base_uri": "https://localhost:8080/"
        },
        "id": "iVhTS3kZh0YO",
        "outputId": "edeac256-31fd-4865-d889-c68b560d68f6"
      },
      "source": [
        "import pickle\n",
        "pickle.dump(clf,open('img_model.p','wb'))"
      ],
      "execution_count": 19,
      "outputs": [
        {
          "output_type": "stream",
          "text": [
            "time: 48.5 ms (started: 2021-06-28 13:08:04 +00:00)\n"
          ],
          "name": "stdout"
        }
      ]
    },
    {
      "cell_type": "code",
      "metadata": {
        "colab": {
          "base_uri": "https://localhost:8080/"
        },
        "id": "JU9i4KKDh082",
        "outputId": "965be7ad-dec7-4f70-9654-c77af7983191"
      },
      "source": [
        "model = pickle.load(open('img_model.p','rb'))"
      ],
      "execution_count": 20,
      "outputs": [
        {
          "output_type": "stream",
          "text": [
            "time: 23.2 ms (started: 2021-06-28 13:08:04 +00:00)\n"
          ],
          "name": "stdout"
        }
      ]
    },
    {
      "cell_type": "code",
      "metadata": {
        "colab": {
          "base_uri": "https://localhost:8080/",
          "height": 357
        },
        "id": "BgUJESPHh569",
        "outputId": "3a748533-4b41-40aa-93df-9b7a88fd8574"
      },
      "source": [
        "flat_data = []\n",
        "url = input('Enter your URL')\n",
        "img = imread(url)\n",
        "img_resized = resize(img,(150,150,3))\n",
        "flat_data.append(img_resized.flatten())\n",
        "flat_data = np.array(flat_data)\n",
        "print(img.shape)\n",
        "plt.imshow(img_resized)\n",
        "y_out = model.predict(flat_data)\n",
        "y_out = CATEGORIES[y_out[0]]\n",
        "print(f' PREDICTED OUTPUT: {y_out}')"
      ],
      "execution_count": 21,
      "outputs": [
        {
          "output_type": "stream",
          "text": [
            "Enter your URLhttps://th.bing.com/th/id/Rf58b40b1a9e514c054dcfa089a5b49a7?rik=SPSn%2bN1Zkwn6Qw&riu=http%3a%2f%2fwww.thoughtsnmore.com%2fwp-content%2fuploads%2f2015%2f08%2findia-flag-a4.jpg&ehk=zNNEJm2R8XRUBi3l21gStXf7yWKQ7ffpVGx7y%2b5zj5c%3d&risl=&pid=ImgRaw\n",
            "(2480, 3508, 3)\n",
            " PREDICTED OUTPUT: indian national flag\n"
          ],
          "name": "stdout"
        },
        {
          "output_type": "display_data",
          "data": {
            "image/png": "[encoded data removed]",
            "text/plain": [
              "<Figure size 432x288 with 1 Axes>"
            ]
          },
          "metadata": {
            "tags": [],
            "needs_background": "light"
          }
        },
        {
          "output_type": "stream",
          "text": [
            "time: 12 s (started: 2021-06-28 13:08:04 +00:00)\n"
          ],
          "name": "stdout"
        }
      ]
    }
  ]
}